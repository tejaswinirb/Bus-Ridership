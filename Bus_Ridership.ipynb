{
  "nbformat": 4,
  "nbformat_minor": 0,
  "metadata": {
    "colab": {
      "provenance": []
    },
    "kernelspec": {
      "name": "python3",
      "display_name": "Python 3"
    },
    "language_info": {
      "name": "python"
    }
  },
  "cells": [
    {
      "cell_type": "code",
      "source": [
        "# Set the parameters\n",
        "num_simulations <- 100000  # Number of simulation runs\n",
        "num_stops <- 10            # Number of stops\n",
        "\n",
        "# Function to simulate passengers getting on and off the bus\n",
        "simulate_bus_ride <- function() {\n",
        "  passengers_on_bus <- 0\n",
        "\n",
        "  for (stop in 1:num_stops) {\n",
        "    # Simulate passengers getting off\n",
        "    passengers_on_bus <- passengers_on_bus - sum(runif(passengers_on_bus) < 0.2)\n",
        "\n",
        "    # Simulate passengers getting on\n",
        "    passengers_boarding <- sample(0:2, 1, prob = c(0.5, 0.4, 0.1))\n",
        "    passengers_on_bus <- passengers_on_bus + passengers_boarding\n",
        "  }\n",
        "\n",
        "  return(passengers_on_bus)\n",
        "}\n",
        "\n",
        "# Simulate the bus-ridership process for each case\n",
        "empty_counts_case1 <- replicate(num_simulations, {\n",
        "  final_passengers <- simulate_bus_ride()\n",
        "  empty <- final_passengers == 0\n",
        "  empty\n",
        "})\n",
        "\n",
        "empty_counts_case2 <- replicate(num_simulations, {\n",
        "  final_passengers <- simulate_bus_ride()\n",
        "  empty <- final_passengers == 0\n",
        "  empty\n",
        "})\n",
        "\n",
        "empty_counts_case3 <- replicate(num_simulations, {\n",
        "  final_passengers <- simulate_bus_ride()\n",
        "  empty <- final_passengers == 0\n",
        "  empty\n",
        "})\n",
        "\n",
        "empty_counts_case4 <- replicate(num_simulations, {\n",
        "  final_passengers <- simulate_bus_ride()\n",
        "  empty <- final_passengers == 0\n",
        "  empty\n",
        "})\n",
        "\n",
        "# Calculate the probabilities that the bus is empty after the tenth stop for each case\n",
        "empty_probability_case1 <- sum(empty_counts_case1) / num_simulations\n",
        "empty_probability_case2 <- sum(empty_counts_case2) / num_simulations\n",
        "empty_probability_case3 <- sum(empty_counts_case3) / num_simulations\n",
        "empty_probability_case4 <- sum(empty_counts_case4) / num_simulations\n",
        "\n",
        "# Print the results\n",
        "cat(\"Case 1: Probability that the bus is empty after the tenth stop:\", empty_probability_case1, \"\\n\")\n",
        "cat(\"Case 2: Probability that the bus is empty after the tenth stop:\", empty_probability_case2, \"\\n\")\n",
        "cat(\"Case 3: Probability that the bus is empty after the tenth stop:\", empty_probability_case3, \"\\n\")\n",
        "cat(\"Case 4: Probability that the bus is empty after the tenth stop:\", empty_probability_case4, \"\\n\")\n"
      ],
      "metadata": {
        "id": "aEwAeQYvydbj"
      },
      "execution_count": null,
      "outputs": []
    }
  ]
}